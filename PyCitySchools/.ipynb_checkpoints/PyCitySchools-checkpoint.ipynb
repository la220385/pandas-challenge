{
 "cells": [
  {
   "cell_type": "code",
   "execution_count": 6,
   "id": "9663ad25-c237-4301-8f83-7e2adfbdfdb2",
   "metadata": {},
   "outputs": [
    {
     "ename": "SyntaxError",
     "evalue": "unterminated string literal (detected at line 4) (3539189649.py, line 4)",
     "output_type": "error",
     "traceback": [
      "\u001b[0;36m  Cell \u001b[0;32mIn[6], line 4\u001b[0;36m\u001b[0m\n\u001b[0;31m    students_data = pd.read_csv(\"/Users/latifahjones/Desktop/pandas-challenge/PyCity\u001b[0m\n\u001b[0m                                ^\u001b[0m\n\u001b[0;31mSyntaxError\u001b[0m\u001b[0;31m:\u001b[0m unterminated string literal (detected at line 4)\n"
     ]
    }
   ],
   "source": [
    "import pandas as pd\n",
    "\n",
    "schools_data = pd.read_csv(\"/Users/latifahjones/Desktop/pandas-challenge/PyCitySchools/schools_complete.csv\")\n",
    "students_data = pd.read_csv(\"/Users/latifahjones/Desktop/pandas-challenge/PyCitySchools/students_complete.csv\")\n",
    "\n",
    "print(schools_data.head())\n",
    "print(students_data.head())"
   ]
  },
  {
   "cell_type": "code",
   "execution_count": null,
   "id": "36a668a0-3901-4c30-a1a7-652a10f24d8e",
   "metadata": {},
   "outputs": [],
   "source": []
  }
 ],
 "metadata": {
  "kernelspec": {
   "display_name": "Python 3 (ipykernel)",
   "language": "python",
   "name": "python3"
  },
  "language_info": {
   "codemirror_mode": {
    "name": "ipython",
    "version": 3
   },
   "file_extension": ".py",
   "mimetype": "text/x-python",
   "name": "python",
   "nbconvert_exporter": "python",
   "pygments_lexer": "ipython3",
   "version": "3.12.4"
  }
 },
 "nbformat": 4,
 "nbformat_minor": 5
}
